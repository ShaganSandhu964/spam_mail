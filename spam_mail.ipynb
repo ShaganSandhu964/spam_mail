{
 "cells": [
  {
   "cell_type": "markdown",
   "id": "49852c30-e567-41e8-a33d-d02789d37b79",
   "metadata": {},
   "source": [
    "# spam mail detector"
   ]
  },
  {
   "cell_type": "code",
   "execution_count": null,
   "id": "9103d2cc-12ad-4c7f-a397-8d22e00eb564",
   "metadata": {},
   "outputs": [],
   "source": [
    "# here we are using logistic regression because we have to determine that whether the mail is spam or not and logistic regression \n",
    "# is comes under classification "
   ]
  },
  {
   "cell_type": "code",
   "execution_count": 8,
   "id": "ae733272-7a0d-4705-843b-b860ee3f38c0",
   "metadata": {},
   "outputs": [],
   "source": [
    "import pandas as pd\n",
    "from sklearn.model_selection import train_test_split\n",
    "from sklearn.linear_model import LogisticRegression\n",
    "from sklearn.metrics import confusion_matrix,accuracy_score,precision_score,recall_score,f1_score\n",
    "import seaborn as sns\n",
    "import matplotlib.pyplot as plt"
   ]
  },
  {
   "cell_type": "code",
   "execution_count": 10,
   "id": "2e3488bc-cb39-4c13-9754-1c354bd327b3",
   "metadata": {},
   "outputs": [
    {
     "name": "stdout",
     "output_type": "stream",
     "text": [
      "      word_freq_make  word_freq_address  word_freq_all  word_freq_3d  \\\n",
      "3683            0.00                0.0           0.00           0.0   \n",
      "4412            0.71                0.0           0.71           0.0   \n",
      "2584            0.00                0.0           0.91           0.0   \n",
      "69              0.00                0.0           0.00           0.0   \n",
      "1844            0.00                0.0           0.54           0.0   \n",
      "...              ...                ...            ...           ...   \n",
      "1068            0.16                0.0           0.67           0.0   \n",
      "4351            0.00                0.0           0.00           0.0   \n",
      "3027            0.00                0.0           1.60           0.0   \n",
      "3455            0.75                0.0           0.00           0.0   \n",
      "1898            0.00                2.4           0.00           0.0   \n",
      "\n",
      "      word_freq_our  word_freq_over  word_freq_remove  word_freq_internet  \\\n",
      "3683           0.00            0.00              0.00                0.00   \n",
      "4412           0.00            0.00              0.00                0.00   \n",
      "2584           0.00            0.00              0.00                0.45   \n",
      "69             0.00            0.00              0.00                0.00   \n",
      "1844           0.00            0.00              0.00                0.00   \n",
      "...             ...             ...               ...                 ...   \n",
      "1068           0.33            0.16              0.33                0.84   \n",
      "4351           0.00            0.00              0.00                0.00   \n",
      "3027           0.00            0.00              0.00                0.00   \n",
      "3455           0.00            0.00              0.37                0.00   \n",
      "1898           0.80            0.00              0.00                0.00   \n",
      "\n",
      "      word_freq_order  word_freq_mail  ...  word_freq_conference  char_freq_;  \\\n",
      "3683             0.00            0.00  ...                   0.0         0.00   \n",
      "4412             0.00            0.71  ...                   0.0         0.00   \n",
      "2584             0.00            0.00  ...                   0.0         0.00   \n",
      "69               0.00            0.00  ...                   0.0         0.00   \n",
      "1844             0.00            0.00  ...                   0.0         0.00   \n",
      "...               ...             ...  ...                   ...          ...   \n",
      "1068             0.16            0.50  ...                   0.0         0.00   \n",
      "4351             0.00            0.00  ...                   0.0         0.00   \n",
      "3027             0.00            0.00  ...                   0.0         0.00   \n",
      "3455             0.00            0.37  ...                   0.0         0.00   \n",
      "1898             0.00            0.00  ...                   0.0         0.12   \n",
      "\n",
      "      char_freq_(  char_freq_[  char_freq_!  char_freq_$  char_freq_#  \\\n",
      "3683        0.000        0.000        0.000        0.000          0.0   \n",
      "4412        0.000        0.000        0.000        0.000          0.0   \n",
      "2584        0.000        0.000        0.000        0.000          0.0   \n",
      "69          0.201        0.000        0.000        0.100          0.0   \n",
      "1844        0.188        0.047        0.000        0.000          0.0   \n",
      "...           ...          ...          ...          ...          ...   \n",
      "1068        0.224        0.000        1.151        0.056          0.0   \n",
      "4351        0.000        0.000        0.000        0.000          0.0   \n",
      "3027        0.250        0.000        0.000        0.000          0.0   \n",
      "3455        0.099        0.597        0.000        0.000          0.0   \n",
      "1898        0.000        0.000        0.000        0.000          0.0   \n",
      "\n",
      "      capital_run_length_average  capital_run_length_longest  \\\n",
      "3683                       1.000                           1   \n",
      "4412                       1.032                           2   \n",
      "2584                       1.320                           7   \n",
      "69                         4.548                          59   \n",
      "1844                       1.745                          12   \n",
      "...                          ...                         ...   \n",
      "1068                       4.928                          63   \n",
      "4351                       1.000                           1   \n",
      "3027                       2.065                          12   \n",
      "3455                       2.125                          13   \n",
      "1898                       1.696                          15   \n",
      "\n",
      "      capital_run_length_total  \n",
      "3683                         3  \n",
      "4412                        32  \n",
      "2584                       103  \n",
      "69                         141  \n",
      "1844                        89  \n",
      "...                        ...  \n",
      "1068                       621  \n",
      "4351                         3  \n",
      "3027                        95  \n",
      "3455                        85  \n",
      "1898                        56  \n",
      "\n",
      "[921 rows x 57 columns]\n"
     ]
    },
    {
     "name": "stderr",
     "output_type": "stream",
     "text": [
      "E:\\python\\Lib\\site-packages\\sklearn\\linear_model\\_logistic.py:469: ConvergenceWarning: lbfgs failed to converge (status=1):\n",
      "STOP: TOTAL NO. of ITERATIONS REACHED LIMIT.\n",
      "\n",
      "Increase the number of iterations (max_iter) or scale the data as shown in:\n",
      "    https://scikit-learn.org/stable/modules/preprocessing.html\n",
      "Please also refer to the documentation for alternative solver options:\n",
      "    https://scikit-learn.org/stable/modules/linear_model.html#logistic-regression\n",
      "  n_iter_i = _check_optimize_result(\n"
     ]
    }
   ],
   "source": [
    "#load he dataset and split it into training and testing set\n",
    "data=pd.read_csv('spambase.csv')\n",
    "# x will have all the columns expect the target col \n",
    "x=data.drop('spam',axis=1)\n",
    "# y is for whether the mail is spam or not 1 for spam and 0 for not spam\n",
    "y=data['spam']\n",
    "\n",
    "x_train,x_test,y_train,y_test=train_test_split(x,y,test_size=0.2,random_state=42)\n",
    "\n",
    "# train the logistic regression to classify the emails as spam or not\n",
    "model=LogisticRegression()\n",
    "model.fit(x_train,y_train)\n",
    "y_predict=model.predict(x_test)\n",
    "\n",
    "print(x_test)"
   ]
  },
  {
   "cell_type": "code",
   "execution_count": 12,
   "id": "b78bcc03-fc86-4c0f-b727-a5c6dda877ed",
   "metadata": {},
   "outputs": [
    {
     "name": "stdout",
     "output_type": "stream",
     "text": [
      "0.9218241042345277\n"
     ]
    }
   ],
   "source": [
    "#Evaluate the model using accuracy,confusion,precision,recall and f1\n",
    "accuracy=accuracy_score(y_test,y_predict)\n",
    "print(accuracy)"
   ]
  },
  {
   "cell_type": "code",
   "execution_count": 14,
   "id": "c1967fe0-2662-4283-847e-57ab896baef5",
   "metadata": {},
   "outputs": [
    {
     "name": "stdout",
     "output_type": "stream",
     "text": [
      "0.9184210526315789\n"
     ]
    }
   ],
   "source": [
    "precision=precision_score(y_test,y_predict)\n",
    "print(precision)"
   ]
  },
  {
   "cell_type": "code",
   "execution_count": 16,
   "id": "5bac1544-2106-4135-9261-098a51b3e692",
   "metadata": {},
   "outputs": [
    {
     "name": "stdout",
     "output_type": "stream",
     "text": [
      "0.8948717948717949\n"
     ]
    }
   ],
   "source": [
    "recall=recall_score(y_test,y_predict)\n",
    "print(recall)"
   ]
  },
  {
   "cell_type": "code",
   "execution_count": 18,
   "id": "577ac7ba-e2fd-413e-bfb8-b6ffb4f23669",
   "metadata": {},
   "outputs": [
    {
     "name": "stdout",
     "output_type": "stream",
     "text": [
      "0.9064935064935065\n"
     ]
    }
   ],
   "source": [
    "f1=f1_score(y_test,y_predict)\n",
    "print(f1)"
   ]
  },
  {
   "cell_type": "code",
   "execution_count": 20,
   "id": "2f4e0d8e-24cc-4da7-ac4c-e5a8dd53e9d6",
   "metadata": {},
   "outputs": [],
   "source": [
    "# visualize the confusion maatrix using seaborn heatmap"
   ]
  },
  {
   "cell_type": "code",
   "execution_count": 22,
   "id": "da634a46-4d1c-4f01-8243-6a6e0e6fe175",
   "metadata": {},
   "outputs": [
    {
     "data": {
      "image/png": "[encoded data removed]",
      "text/plain": [
       "<Figure size 640x480 with 2 Axes>"
      ]
     },
     "metadata": {},
     "output_type": "display_data"
    }
   ],
   "source": [
    "cm=confusion_matrix(y_test,y_predict)\n",
    "sns.heatmap(cm,annot=True,fmt='d')\n",
    "plt.title('confusion_matrix')\n",
    "plt.show()"
   ]
  },
  {
   "cell_type": "code",
   "execution_count": null,
   "id": "bf7ed49f-1b84-40fe-b363-eb09088b51b6",
   "metadata": {},
   "outputs": [],
   "source": []
  }
 ],
 "metadata": {
  "kernelspec": {
   "display_name": "Python 3 (ipykernel)",
   "language": "python",
   "name": "python3"
  },
  "language_info": {
   "codemirror_mode": {
    "name": "ipython",
    "version": 3
   },
   "file_extension": ".py",
   "mimetype": "text/x-python",
   "name": "python",
   "nbconvert_exporter": "python",
   "pygments_lexer": "ipython3",
   "version": "3.12.4"
  }
 },
 "nbformat": 4,
 "nbformat_minor": 5
}
